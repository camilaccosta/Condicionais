{
  "nbformat": 4,
  "nbformat_minor": 0,
  "metadata": {
    "colab": {
      "name": "LC- LISTAS  E FOR .ipynb",
      "provenance": [],
      "collapsed_sections": [
        "X98ILZ7UehaD",
        "AP2w-aolqtO0",
        "e2uidTZruHBG",
        "dHE2Lf-1tbow",
        "EBVWri24pBlS",
        "BzRw3gpvpTRA",
        "cZDhFloPpad7",
        "IfMLuyXkpj-w",
        "rCIjYJqgpxYK",
        "kpYRPJ95p4WJ",
        "t3mLXhddp-hi",
        "NT5wSbtNqUPl",
        "YsCDvDk2qcNW",
        "lO3IwNMgqcT8",
        "eBl0L19yGk-b",
        "pzKFYF49WHzQ"
      ],
      "authorship_tag": "ABX9TyPCCEeeOlD9tuueBxwYBcw5",
      "include_colab_link": true
    },
    "kernelspec": {
      "name": "python3",
      "display_name": "Python 3"
    },
    "language_info": {
      "name": "python"
    }
  },
  "cells": [
    {
      "cell_type": "markdown",
      "metadata": {
        "id": "view-in-github",
        "colab_type": "text"
      },
      "source": [
        "<a href=\"https://colab.research.google.com/github/camilaccosta/Condicionais/blob/main/LC_LISTAS_E_FOR_.ipynb\" target=\"_parent\"><img src=\"https://colab.research.google.com/assets/colab-badge.svg\" alt=\"Open In Colab\"/></a>"
      ]
    },
    {
      "cell_type": "code",
      "metadata": {
        "id": "b0IXZC8_OJvx"
      },
      "source": [
        "from random import randint "
      ],
      "execution_count": 2,
      "outputs": []
    },
    {
      "cell_type": "markdown",
      "metadata": {
        "id": "X98ILZ7UehaD"
      },
      "source": [
        "###**Questão 1**\n",
        "\n",
        "Crie uma lista qualquer e faça um programa que imprima cada elemento da lista usando o for."
      ]
    },
    {
      "cell_type": "code",
      "metadata": {
        "id": "ky00zKYRbDfZ",
        "colab": {
          "base_uri": "https://localhost:8080/"
        },
        "outputId": "4cf563ab-c8cb-4509-cde1-bd5aaf295436"
      },
      "source": [
        "lista=[2,4,6,8,10]\n",
        "for i in lista:\n",
        "  print(i)\n"
      ],
      "execution_count": null,
      "outputs": [
        {
          "output_type": "stream",
          "name": "stdout",
          "text": [
            "2\n",
            "4\n",
            "6\n",
            "8\n",
            "10\n"
          ]
        }
      ]
    },
    {
      "cell_type": "markdown",
      "metadata": {
        "id": "AP2w-aolqtO0"
      },
      "source": [
        "###**Questão 2**\n",
        "\n",
        "Faça um programa que peça para o usuário digitar um número n e imprima uma lista com todos os números de 0 a n-1.\n",
        "\n",
        "**Exemplo:** se o usuário digitar 5, o programa deve imprimir [0, 1, 2, 3, 4]"
      ]
    },
    {
      "cell_type": "code",
      "metadata": {
        "colab": {
          "base_uri": "https://localhost:8080/"
        },
        "id": "xVl9BeRAtMRC",
        "outputId": "d7e2c8e6-3fe9-4323-e587-59bf2e49599e"
      },
      "source": [
        "numero = int(input(\"Digite um número : \"))\n",
        "lista=[]\n",
        "lista.append(numero)\n",
        "\n",
        "lista=list(range(numero))\n",
        "\n",
        "print(lista)\n"
      ],
      "execution_count": null,
      "outputs": [
        {
          "output_type": "stream",
          "name": "stdout",
          "text": [
            "Digite um número : 7\n",
            "[0, 1, 2, 3, 4, 5, 6]\n"
          ]
        }
      ]
    },
    {
      "cell_type": "markdown",
      "metadata": {
        "id": "e2uidTZruHBG"
      },
      "source": [
        "###**Questão 03**\n",
        "\n",
        "Faça um programa que olhe todos os itens de uma lista e diga quantos deles são pares."
      ]
    },
    {
      "cell_type": "code",
      "metadata": {
        "id": "QhX0qmuJo9KX",
        "colab": {
          "base_uri": "https://localhost:8080/"
        },
        "outputId": "87702639-6abd-4f03-b448-98553e5c9a57"
      },
      "source": [
        "lista=[1,20,33,45,46,50,61,64]\n",
        "count=0\n",
        "for i in lista:\n",
        "  if i%2==0:\n",
        "    count+=1\n",
        " \n",
        "print(f\" {count} números da lista são pares. \") "
      ],
      "execution_count": null,
      "outputs": [
        {
          "output_type": "stream",
          "name": "stdout",
          "text": [
            " 4 números da lista são pares. \n"
          ]
        }
      ]
    },
    {
      "cell_type": "markdown",
      "metadata": {
        "id": "dHE2Lf-1tbow"
      },
      "source": [
        "###**TÓPICO EXTRA-(LISTA EM ORDEM DECRESCENTE)** \n",
        "\n",
        "Faça um programa que peça para o usuário digitar um número n e imprima uma lista com todos os números de 0 a n-1.\n",
        "\n",
        "**Exemplo:** se o usuário digitar 5, o programa deve imprimir [4,3,2,1,0]"
      ]
    },
    {
      "cell_type": "code",
      "metadata": {
        "colab": {
          "base_uri": "https://localhost:8080/"
        },
        "id": "ENsdBdy_q7Fb",
        "outputId": "58cf4402-e97a-4815-a71e-59677f9efa1a"
      },
      "source": [
        "numero = int(input(\"Digite um número : \"))\n",
        "lista=[]\n",
        "\n",
        "for i in range(0,numero,1):\n",
        "  numero=numero-1\n",
        "  lista.append(numero)\n",
        "\n",
        "\n",
        "print(lista)\n"
      ],
      "execution_count": null,
      "outputs": [
        {
          "output_type": "stream",
          "text": [
            "Digite um número : 5\n",
            "[4, 3, 2, 1, 0]\n"
          ],
          "name": "stdout"
        }
      ]
    },
    {
      "cell_type": "markdown",
      "metadata": {
        "id": "EBVWri24pBlS"
      },
      "source": [
        "###**Questão 04** \n",
        "\n",
        "Faça um programa que imprima o maior número de uma lista, sem usar o método max()."
      ]
    },
    {
      "cell_type": "code",
      "metadata": {
        "id": "OsMXExAjpGvV",
        "colab": {
          "base_uri": "https://localhost:8080/"
        },
        "outputId": "1e7b1bcf-1a40-41f5-cb7e-8e00eea46512"
      },
      "source": [
        "lista=[2,3,67,87,4,5,6,98,54,31]\n",
        "listaCrescente=sorted(lista)\n",
        "print(listaCrescente[-1])"
      ],
      "execution_count": null,
      "outputs": [
        {
          "output_type": "stream",
          "name": "stdout",
          "text": [
            "98\n"
          ]
        }
      ]
    },
    {
      "cell_type": "markdown",
      "metadata": {
        "id": "BzRw3gpvpTRA"
      },
      "source": [
        "###**Questão 05**\n",
        "\n",
        "Agora usando o método max() faça um programa que imprima os três maiores números de uma lista.\n",
        "\n",
        "**Dica:** Use o método próprio de listas .remove()."
      ]
    },
    {
      "cell_type": "code",
      "metadata": {
        "id": "77AYsp7dpYEb",
        "colab": {
          "base_uri": "https://localhost:8080/"
        },
        "outputId": "11c1945b-99de-4d90-f77d-d29331e78750"
      },
      "source": [
        "lista=[2,3,67,87,4,5,6,98,54,31]\n",
        "listaMaximos=[]\n",
        "count=0\n",
        "\n",
        "while count < 3:\n",
        "  listaMaximos.append(max(lista))\n",
        "  lista.remove(max(lista))\n",
        "  count+=1\n",
        " \n",
        "\n",
        "print(listaMaximos)"
      ],
      "execution_count": null,
      "outputs": [
        {
          "output_type": "stream",
          "name": "stdout",
          "text": [
            "[98, 87, 67]\n"
          ]
        }
      ]
    },
    {
      "cell_type": "markdown",
      "metadata": {
        "id": "cZDhFloPpad7"
      },
      "source": [
        "###**Questão 06**\n",
        "\n",
        "Faça um programa que, dadas duas listas de mesmo tamanho, crie uma nova lista com cada elemento igual a soma dos elementos da lista 1 com os da lista 2, na mesma posição.\n",
        "\n",
        "**Exemplo:** dadas lista1 = [1, 4, 5] e lista2 = [2, 2, 3], então lista3 = [1+2, 4+2, 5+3] = [3, 6, 8]"
      ]
    },
    {
      "cell_type": "code",
      "metadata": {
        "id": "2R2Aok3Tpf2j",
        "colab": {
          "base_uri": "https://localhost:8080/"
        },
        "outputId": "738cf57f-0441-473c-fd8d-7a410b4147a2"
      },
      "source": [
        "listaA=[1,4,5]\n",
        "listaB=[2,2,3]\n",
        "\n",
        "listaC=[listaA[0] + listaB[0],listaA[1] + listaB[1],listaA[2] + listaB[2]]\n",
        "\n",
        "print(listaC)"
      ],
      "execution_count": null,
      "outputs": [
        {
          "output_type": "stream",
          "name": "stdout",
          "text": [
            "[3, 6, 8]\n"
          ]
        }
      ]
    },
    {
      "cell_type": "markdown",
      "metadata": {
        "id": "IfMLuyXkpj-w"
      },
      "source": [
        "###**Questão 07**\n",
        "\n",
        "Faça um programa que dadas duas listas de mesmo tamanho, imprima o produto escalar entre elas.\n",
        "\n",
        "**OBS:** produto escalar é a soma do resultado da multiplicação entre o número na posição i da lista1 pelo número na posição i da lista2, com i variando de 0 ao tamanho da lista."
      ]
    },
    {
      "cell_type": "code",
      "metadata": {
        "id": "jAEPiOorpoRp"
      },
      "source": [
        "listaA=[1,4,5]\n",
        "listaB=[2,2,3]\n",
        "listaC=[(listaA[0] * listaB[0])+0,(listaA[1] * listaB[1])+1,(listaA[2] * listaB[2])+2]\n",
        "\n",
        "print(listaC)\n"
      ],
      "execution_count": null,
      "outputs": []
    },
    {
      "cell_type": "markdown",
      "metadata": {
        "id": "rCIjYJqgpxYK"
      },
      "source": [
        "###**Questão 08** \n",
        "\n",
        "**Faça um programa que pede para o usuário digitar 5 números e, ao final, imprime uma lista com os 5 números digitados pelo usuário (sem converter os números para int ou float).**\n",
        "\n",
        "*Exemplo: Se o usuário digitar 1, 5, 2, 3, 6, o programa deve imprimir a lista ['1','5','2','3','6']*\n"
      ]
    },
    {
      "cell_type": "code",
      "metadata": {
        "id": "aUHFjKYwp09s"
      },
      "source": [
        "\n",
        "i=0\n",
        "lista=[]\n",
        "while i<5:\n",
        "    lista.append(input(\"Digite um número:\"))\n",
        "    i+=1\n",
        "\n",
        "print(lista)\n"
      ],
      "execution_count": null,
      "outputs": []
    },
    {
      "cell_type": "markdown",
      "metadata": {
        "id": "kpYRPJ95p4WJ"
      },
      "source": [
        "###**Questão 09** \n",
        "\n",
        "Pegue a lista gerada no exercício anterior e transforme cada um dos itens dessa lista em um float.\n",
        "\n",
        "*OBS: Não é para alterar o programa anterior, mas sim a lista gerada por ele.* \n"
      ]
    },
    {
      "cell_type": "code",
      "metadata": {
        "id": "BVGY4sOKqBnN"
      },
      "source": [
        "\n",
        "i=0\n",
        "lista=[]\n",
        "while i<5:\n",
        "    lista.append(input(\"Digite um número:\"))\n",
        "    i+=1\n",
        "\n",
        "lista = [float(numero) for numero in lista]\n",
        "\n",
        "print(lista)"
      ],
      "execution_count": null,
      "outputs": []
    },
    {
      "cell_type": "markdown",
      "metadata": {
        "id": "t3mLXhddp-hi"
      },
      "source": [
        "###**Questão 10** \n",
        "\n",
        "Faça um Programa que peça as 4 notas bimestrais e mostre a média aritmética delas, usando listas.\n"
      ]
    },
    {
      "cell_type": "code",
      "metadata": {
        "id": "Q1U8881RqEbp"
      },
      "source": [
        "listaNotas=[]\n",
        "i=0\n",
        "soma=0\n",
        "while i < 4:\n",
        "  listaNotas.append(float(input(\"Digite a nota\")))\n",
        "  i += 1\n",
        "for numero in listaNotas:\n",
        "  soma += numero\n",
        "\n",
        "print(soma/4)"
      ],
      "execution_count": null,
      "outputs": []
    },
    {
      "cell_type": "markdown",
      "metadata": {
        "id": "fX4h8yH2qHCb"
      },
      "source": [
        "###**Questão 11**\n",
        "\n",
        "Sorteie uma lista de 10 números e imprima:\n",
        "\n",
        "a. uma lista com os 4 primeiros números;\n",
        "\n",
        "b. uma lista com os 5 últimos números;\n",
        "\n",
        "c. uma lista contendo apenas os elementos das posições pares;\n",
        "\n",
        "d. uma lista contendo apenas os elementos das posições ímpares;\n",
        "\n",
        "e. a lista inversa da lista sorteada (isto é, uma lista que começa com o último elemento da lista sorteada e termina com o primeiro);\n",
        "\n",
        "f. uma lista inversa dos 5 primeiros números;\n",
        "\n",
        "g. uma lista inversa dos 5 últimos números."
      ]
    },
    {
      "cell_type": "code",
      "metadata": {
        "id": "DvLokmaJqHNa",
        "colab": {
          "base_uri": "https://localhost:8080/"
        },
        "outputId": "65438ea9-b7ef-4b73-e8a9-ffe952ae71f7"
      },
      "source": [
        "\n",
        "lista=[randint(0,500) for i in range(10) ] \n",
        "lista = lista \n",
        "print(lista)"
      ],
      "execution_count": null,
      "outputs": [
        {
          "output_type": "stream",
          "name": "stdout",
          "text": [
            "[241, 136, 425, 100, 58, 198, 277, 354, 112, 14]\n"
          ]
        }
      ]
    },
    {
      "cell_type": "code",
      "metadata": {
        "colab": {
          "base_uri": "https://localhost:8080/"
        },
        "id": "I7kWNiQlUGuL",
        "outputId": "66f0b1ca-4eb4-4e7c-da4e-65f08f1c6490"
      },
      "source": [
        "#Resposta letra a:\n",
        "print(f\" LETRA A)  lista com os 4 primeiros números: {lista[0:4]}\")\n",
        "\n",
        "#Resposta letra b:\n",
        "print(f\" LETRA B)  lista com os 5 últimos números: {lista[5:10]}\")\n",
        "\n",
        "\n",
        "#Resposta letra c:\n",
        "print(f\" LETRA C)  lista contendo apenas os elementos das posições pares: {lista[0::2]}\")\n",
        "\n",
        "\n",
        "#Resposta letra d:\n",
        "print(f\" LETRA D)  lista contendo apenas os elementos das posições ímpares: {lista[1::2]}\")\n",
        "\n"
      ],
      "execution_count": null,
      "outputs": [
        {
          "output_type": "stream",
          "name": "stdout",
          "text": [
            " LETRA A)  lista com os 4 primeiros números: [241, 136, 425, 100]\n",
            " LETRA B)  lista com os 5 últimos números: [198, 277, 354, 112, 14]\n",
            " LETRA C)  lista contendo apenas os elementos das posições pares: [241, 425, 58, 277, 112]\n",
            " LETRA D)  lista contendo apenas os elementos das posições ímpares: [136, 100, 198, 354, 14]\n"
          ]
        }
      ]
    },
    {
      "cell_type": "code",
      "metadata": {
        "colab": {
          "base_uri": "https://localhost:8080/"
        },
        "id": "RgPbXfI3zGQ_",
        "outputId": "8341d755-ef26-4451-9861-16785163ac4a"
      },
      "source": [
        "#Resposta letra (E)\n",
        "lista1= lista\n",
        "print(f\" Lista original: {lista1}\\n\")\n",
        "\n",
        "lista1.reverse()\n",
        "\"\\n\"\n",
        "print(f\" LETRA E)  lista inversa da lista sorteadas: {lista1}\")\n"
      ],
      "execution_count": null,
      "outputs": [
        {
          "output_type": "stream",
          "name": "stdout",
          "text": [
            " Lista original: [440, 367, 319, 305, 455, 157, 495, 101, 282, 295]\n",
            "\n",
            " LETRA E)  lista inversa da lista sorteadas: [295, 282, 101, 495, 157, 455, 305, 319, 367, 440]\n"
          ]
        }
      ]
    },
    {
      "cell_type": "code",
      "metadata": {
        "colab": {
          "base_uri": "https://localhost:8080/"
        },
        "id": "N14X5VUUz1rD",
        "outputId": "d37f399e-a32e-4857-a609-aaf6248eaac6"
      },
      "source": [
        "#Resposta letra (F)\n",
        "\n",
        "lista_5_primeiros = lista[0:5]\n",
        "\n",
        "print(f\" Lista com cinco primeiros números: {lista_5_primeiros}\\n\")\n",
        "\n",
        "\n",
        "lista_5_primeiros.reverse()\n",
        "\n",
        "\"\\n\"\n",
        "\n",
        "print(f\" LETRA (F)  lista inversa dos 5 primeiros números: {lista_5_primeiros}\")"
      ],
      "execution_count": null,
      "outputs": [
        {
          "output_type": "stream",
          "name": "stdout",
          "text": [
            " Lista com cinco primeiros números: [241, 136, 425, 100, 58]\n",
            "\n",
            " LETRA (F)  lista inversa dos 5 primeiros números: [58, 100, 425, 136, 241]\n"
          ]
        }
      ]
    },
    {
      "cell_type": "code",
      "metadata": {
        "colab": {
          "base_uri": "https://localhost:8080/"
        },
        "id": "gyFN6FBE2ACk",
        "outputId": "b634341f-dc96-4fe6-d187-7a04f4abc0e9"
      },
      "source": [
        "#Resposta letra (G)\n",
        "\n",
        "lista_5_ultimos = lista[4::]\n",
        "\n",
        "print(f\" Lista com cinco primeiros números: {lista_5_ultimos}\\n\")\n",
        "\n",
        "\n",
        "lista_5_ultimos.reverse()\n",
        "\n",
        "\"\\n\"\n",
        "\n",
        "print(f\" LETRA (G)  lista inversa dos 5 últimos números: {lista_5_ultimos}\")"
      ],
      "execution_count": null,
      "outputs": [
        {
          "output_type": "stream",
          "name": "stdout",
          "text": [
            " Lista com cinco primeiros números: [58, 198, 277, 354, 112, 14]\n",
            "\n",
            " LETRA (G)  lista inversa dos 5 últimos números: [14, 112, 354, 277, 198, 58]\n"
          ]
        }
      ]
    },
    {
      "cell_type": "markdown",
      "metadata": {
        "id": "NT5wSbtNqUPl"
      },
      "source": [
        "###**Questão  12**\n",
        "\n",
        "Faça um programa que sorteia 10 números entre 0 e 100 e conte quantos números sorteados são maiores que 50.\n"
      ]
    },
    {
      "cell_type": "code",
      "metadata": {
        "id": "-A_07O9FqUd_",
        "colab": {
          "base_uri": "https://localhost:8080/"
        },
        "outputId": "116856f8-185d-4afd-d9d4-14245143cf94"
      },
      "source": [
        "numeros = [ randint(0,100) for i in range(10)]\n",
        "print(numeros)"
      ],
      "execution_count": null,
      "outputs": [
        {
          "output_type": "stream",
          "name": "stdout",
          "text": [
            "[43, 1, 73, 34, 6, 11, 37, 61, 95, 38]\n"
          ]
        }
      ]
    },
    {
      "cell_type": "code",
      "metadata": {
        "colab": {
          "base_uri": "https://localhost:8080/"
        },
        "id": "z-7t5ZWk3q7W",
        "outputId": "98b5e76c-fdbb-47ce-df7b-31927f196d03"
      },
      "source": [
        "\n",
        "pares= [ numero  for numero in numeros if numero%2==0]\n",
        "print(f\" Lista dos números pares: {pares}\")\n",
        "\"\\n\"\n",
        "print(f\" Quantidade de números pares sorteados: {len(pares)}\")"
      ],
      "execution_count": null,
      "outputs": [
        {
          "output_type": "stream",
          "name": "stdout",
          "text": [
            " Lista dos números pares: [34, 6, 38]\n",
            " Quantidade de números pares sorteados: 3\n"
          ]
        }
      ]
    },
    {
      "cell_type": "markdown",
      "metadata": {
        "id": "YsCDvDk2qcNW"
      },
      "source": [
        "###**Questão 13**\n",
        "\n",
        "**Desafio 1 |** Faça um programa que peça para o usuário digitar o nome e a idade de um aluno e o número de provas que esse aluno fez. Depois, o programa deve pedir para o usuário digitar as notas de cada prova do aluno. Ao final o programa deve imprimir uma lista contendo:\n",
        "\n",
        "a. Nome do aluno na posição 0\n",
        "\n",
        "b. Idade do aluno na posição 1\n",
        "\n",
        "c. Uma lista com todas as notas na posição 2\n",
        "\n",
        "d. A média do aluno na posição 3\n",
        "\n",
        "e. True ou False, caso a média seja maior que 5 ou não, na posição 4\n",
        "\n",
        "Dica: Use o que você fez nos exercícios anteriores para criar esse programa."
      ]
    },
    {
      "cell_type": "code",
      "metadata": {
        "id": "gFFVJYQQqrlR",
        "colab": {
          "base_uri": "https://localhost:8080/"
        },
        "outputId": "54c49a43-1b67-4871-c05d-a8473fbb4503"
      },
      "source": [
        "print(\" Bem vindo ao portal do aluno!\\n \")\n",
        "\n",
        "dados_aluno=[]\n",
        "dados_aluno.append(input(\"Digite aqui o seu nome: \\n\"))\n",
        "dados_aluno.append(int(input(\"\\n Digite aqui a sua idade: \\n\")))\n",
        "\"\\n\"\n",
        "qnt_provas = int(input(' \\n Digite a quantidade de prova que você realizou: \\n'))\n",
        "\n"
      ],
      "execution_count": null,
      "outputs": [
        {
          "name": "stdout",
          "output_type": "stream",
          "text": [
            " Bem vindo ao portal do aluno!\n",
            " \n",
            "Digite aqui o seu nome: \n",
            "Camila\n",
            "\n",
            " Digite aqui a sua idade: \n",
            "30\n",
            " \n",
            " Digite a quantidade de prova que você realizou: \n",
            "3\n"
          ]
        }
      ]
    },
    {
      "cell_type": "code",
      "metadata": {
        "colab": {
          "base_uri": "https://localhost:8080/"
        },
        "id": "hY7VllRq76X4",
        "outputId": "28ff8690-2207-4ae7-f8e4-3ab0b08527d3"
      },
      "source": [
        "lista_notas = [] \n",
        "for i in range(qnt_provas):\n",
        "\n",
        "  lista_notas.append(int(input('Digite a nota da prova:')))\n",
        "\n",
        "print(lista_notas)\n"
      ],
      "execution_count": null,
      "outputs": [
        {
          "output_type": "stream",
          "name": "stdout",
          "text": [
            "Digite a nota da prova:10\n",
            "Digite a nota da prova:9\n",
            "Digite a nota da prova:8\n",
            "[10, 9, 8]\n"
          ]
        }
      ]
    },
    {
      "cell_type": "code",
      "metadata": {
        "id": "00cfLEA3mFeu"
      },
      "source": [
        "dados_aluno.append(lista_notas)\n",
        "soma=0\n",
        "for i in range(qnt_provas):\n",
        "  soma += lista_notas[i]\n",
        "\n",
        "media= soma/qnt_provas\n",
        "dados_aluno.append(media)\n"
      ],
      "execution_count": null,
      "outputs": []
    },
    {
      "cell_type": "code",
      "metadata": {
        "colab": {
          "base_uri": "https://localhost:8080/"
        },
        "id": "4k8PavaPp8st",
        "outputId": "3378c95b-87f2-488e-9252-c5ba3808f45f"
      },
      "source": [
        "\n",
        "if media >=5:\n",
        "  resultado = True\n",
        "else: \n",
        "  resultado = False\n",
        "\n",
        "dados_aluno.append(resultado)\n",
        "\n",
        "print(dados_aluno)\n"
      ],
      "execution_count": null,
      "outputs": [
        {
          "output_type": "stream",
          "name": "stdout",
          "text": [
            "['Camila', 30, [9, 8], 8.5, True]\n"
          ]
        }
      ]
    },
    {
      "cell_type": "markdown",
      "metadata": {
        "id": "lO3IwNMgqcT8"
      },
      "source": [
        "###**Questão 14**\n",
        "\n",
        "Faça um programa como o do item anterior, porém que imprima a média sem considerar a maior e menor nota do aluno (nesse caso o número de provas precisa ser obrigatoriamente maior que dois).\n",
        "\n",
        "Dica: crie uma cópia com a lista de todas as notas antes de fazer a média. "
      ]
    },
    {
      "cell_type": "code",
      "metadata": {
        "id": "0DMzn0zMqsGS",
        "colab": {
          "base_uri": "https://localhost:8080/"
        },
        "outputId": "ab0ced1b-1188-49dd-d7a0-5b5ac9b1383e"
      },
      "source": [
        "print(\" Bem vindo ao portal do aluno!\\n \")\n",
        "\n",
        "dados_aluno=[] # Cria lista vazia para posteriormente inserção dos dados\n",
        "\n",
        "dados_aluno.append(input(\"Digite aqui o seu nome: \\n\")) #Input do nome do aluno ja sendo incluído na posição [0] da lista princial; \n",
        "dados_aluno.append(int(input(\"\\n Digite aqui a sua idade: \\n\"))) #Input do idade do aluno ja sendo incluído na posição [1] da lista principal; \n",
        "\"\\n\"\n",
        "qnt_provas = int(input(' \\n Digite a quantidade de prova que você realizou: \\n')) #Input da quantidade de provas;  \n",
        "\"\\n\"\n",
        "\n",
        "\n",
        "lista_notas = []  # Cria lista vazia que será o local de armazenamento das notas;\n",
        "for i in range(qnt_provas): # for com range da quantidade de provas, ou seja, repetição do input de notas;\n",
        "\n",
        "  lista_notas.append(int(input('Digite a nota da prova:'))) #Input das notas ja sendo incluídas na lista_notas; \n",
        "\n",
        "print(lista_notas)\n",
        "dados_aluno.append(lista_notas) # adiciona a lista de notas na posição [2] da lista principal;\n",
        "maior_nota = max(lista_notas, key=int) #Variavél de armazenamento da maior nota digitada e adiciona à lista_notas;\n",
        "menor_nota = min(lista_notas, key=int) #Variavél de armazenamento da menor nota digitada e adiciona à lista_notas;\n"
      ],
      "execution_count": null,
      "outputs": [
        {
          "output_type": "stream",
          "name": "stdout",
          "text": [
            " Bem vindo ao portal do aluno!\n",
            " \n",
            "Digite aqui o seu nome: \n",
            "Rafa\n",
            "\n",
            " Digite aqui a sua idade: \n",
            "15\n",
            " \n",
            " Digite a quantidade de prova que você realizou: \n",
            "4\n",
            "Digite a nota da prova:10\n",
            "Digite a nota da prova:9\n",
            "Digite a nota da prova:8\n",
            "Digite a nota da prova:7\n",
            "[10, 9, 8, 7]\n"
          ]
        }
      ]
    },
    {
      "cell_type": "code",
      "metadata": {
        "id": "v7sosEssqnyg"
      },
      "source": [
        "\n",
        "soma=0\n",
        "for i in range(qnt_provas):\n",
        "    soma += lista_notas[i]\n",
        "  \n",
        "if qnt_provas >2:\n",
        "  soma = soma - (maior_nota + menor_nota)\n",
        "  media= soma/(qnt_provas - 2)\n",
        "  dados_aluno.append(media)\n",
        "else:\n",
        "  media= soma/qnt_provas\n",
        "  dados_aluno.append(media)\n"
      ],
      "execution_count": null,
      "outputs": []
    },
    {
      "cell_type": "code",
      "metadata": {
        "colab": {
          "base_uri": "https://localhost:8080/"
        },
        "id": "XwL4wxxyqq9t",
        "outputId": "570eb7a9-79a1-41dc-d778-92d352d34b92"
      },
      "source": [
        "\n",
        "if media >=5:\n",
        "  resultado = True\n",
        "else: \n",
        "  resultado = False\n",
        "\n",
        "dados_aluno.append(resultado)\n",
        "\n",
        "print(dados_aluno)\n"
      ],
      "execution_count": null,
      "outputs": [
        {
          "output_type": "stream",
          "name": "stdout",
          "text": [
            "['Rafa', 15, [10, 9, 8, 7], 8.5, True]\n"
          ]
        }
      ]
    },
    {
      "cell_type": "markdown",
      "source": [
        "## **QUESTÃO 15**\n",
        "Faça um programa que sorteie 10 números entre 0 e 100 e imprima:\n",
        "\n",
        "**a.** o maior número sorteado;\n",
        "\n",
        "**b.** o menor número sorteado;\n",
        "\n",
        "**c.** a média dos números sorteados;\n",
        "\n",
        "**d.** a soma dos números sorteados."
      ],
      "metadata": {
        "id": "eBl0L19yGk-b"
      }
    },
    {
      "cell_type": "code",
      "source": [
        "numeros_Q15 = [ randint(0,100) for i in range(10)]\n",
        "print(numeros_Q15)"
      ],
      "metadata": {
        "colab": {
          "base_uri": "https://localhost:8080/"
        },
        "id": "WgPdU8H6GkBW",
        "outputId": "4f1048bc-44be-48a6-aeba-729f5c413372"
      },
      "execution_count": 3,
      "outputs": [
        {
          "output_type": "stream",
          "name": "stdout",
          "text": [
            "[61, 81, 3, 25, 16, 92, 67, 60, 2, 29]\n"
          ]
        }
      ]
    },
    {
      "cell_type": "markdown",
      "source": [
        "### **a)** o maior número sorteado:"
      ],
      "metadata": {
        "id": "EEuWMX24R6JW"
      }
    },
    {
      "cell_type": "code",
      "source": [
        "\n",
        "numeros_Q15.sort()\n",
        "numeros_Q15"
      ],
      "metadata": {
        "colab": {
          "base_uri": "https://localhost:8080/"
        },
        "id": "faHKB8meHNhb",
        "outputId": "23a2b8be-e894-4724-943e-88ae04b3c213"
      },
      "execution_count": 9,
      "outputs": [
        {
          "output_type": "execute_result",
          "data": {
            "text/plain": [
              "[2, 3, 16, 25, 29, 60, 61, 67, 81, 92]"
            ]
          },
          "metadata": {},
          "execution_count": 9
        }
      ]
    },
    {
      "cell_type": "code",
      "source": [
        "print(f\" O maior número sorteado é: {numeros_Q15[-1]}\")"
      ],
      "metadata": {
        "colab": {
          "base_uri": "https://localhost:8080/"
        },
        "id": "eB_CrYcXRkrq",
        "outputId": "42db749e-2db6-41cf-9d7e-c2880f732831"
      },
      "execution_count": 10,
      "outputs": [
        {
          "output_type": "stream",
          "name": "stdout",
          "text": [
            " O maior número sorteado é: 92\n"
          ]
        }
      ]
    },
    {
      "cell_type": "markdown",
      "source": [
        "### **b)** O menor número sorteado é: "
      ],
      "metadata": {
        "id": "1j2Ur2zcSNtM"
      }
    },
    {
      "cell_type": "code",
      "source": [
        "print(f\" O menor número sorteado é: {numeros_Q15[0]}\")"
      ],
      "metadata": {
        "colab": {
          "base_uri": "https://localhost:8080/"
        },
        "id": "KY4u7eroSZCX",
        "outputId": "1c6d3c09-a88c-49b2-e736-56c81711b6c5"
      },
      "execution_count": 12,
      "outputs": [
        {
          "output_type": "stream",
          "name": "stdout",
          "text": [
            " O menor número sorteado é: 2\n"
          ]
        }
      ]
    },
    {
      "cell_type": "markdown",
      "source": [
        "### **c)** a média dos números sorteados:"
      ],
      "metadata": {
        "id": "1qq9g8WkSfkp"
      }
    },
    {
      "cell_type": "code",
      "source": [
        "soma =sum( i for i in numeros_Q15 )\n",
        "soma"
      ],
      "metadata": {
        "colab": {
          "base_uri": "https://localhost:8080/"
        },
        "id": "VgJkcprISqAE",
        "outputId": "d45631da-33c5-4f9e-da2e-0a881861f69a"
      },
      "execution_count": 16,
      "outputs": [
        {
          "output_type": "execute_result",
          "data": {
            "text/plain": [
              "436"
            ]
          },
          "metadata": {},
          "execution_count": 16
        }
      ]
    },
    {
      "cell_type": "code",
      "source": [
        "media= soma/ len(numeros_Q15)\n",
        "print(f\" A média dos números sorteados é: {media}\")"
      ],
      "metadata": {
        "colab": {
          "base_uri": "https://localhost:8080/"
        },
        "id": "42B83GOTTr80",
        "outputId": "21cbd6de-692d-4c21-b0a4-b3a1f74b2dc4"
      },
      "execution_count": 18,
      "outputs": [
        {
          "output_type": "stream",
          "name": "stdout",
          "text": [
            " A média dos números sorteados é: 43.6\n"
          ]
        }
      ]
    },
    {
      "cell_type": "markdown",
      "source": [
        "###**d)**  a soma dos números sorteados."
      ],
      "metadata": {
        "id": "8louBH0uT_P3"
      }
    },
    {
      "cell_type": "code",
      "source": [
        "soma =sum( i for i in numeros_Q15 )\n",
        "print(f\" A soma dos números sorteados é: {soma}\")"
      ],
      "metadata": {
        "colab": {
          "base_uri": "https://localhost:8080/"
        },
        "id": "kNjaTjnDV6-3",
        "outputId": "96fd3f72-300b-4d78-eb88-b58a0c1cb9d7"
      },
      "execution_count": 19,
      "outputs": [
        {
          "output_type": "stream",
          "name": "stdout",
          "text": [
            " A soma dos números sorteados é: 436\n"
          ]
        }
      ]
    },
    {
      "cell_type": "markdown",
      "source": [
        "## **QUESTÃO 16**\n",
        "\n",
        "Faça um programa que pede para o usuário digitar o CPF e verifica se ele é válido. Para isso, primeiramente o programa deve multiplicar cada um dos 9 primeiros dígitos do CPF pelos números de 10 a 2 e somar todas as respostas. O resultado deve ser multiplicado por 10 e dividido por 11. O resto dessa divisão deve ser igual ao primeiro dígito verificador (10º dígito). Em seguida, o programa deve multiplicar cada um dos 10 primeiros dígitos do CPF pelos números de 11 a 2 e repetir o procedimento anterior para verificar o segundo dígito verificador.\n",
        "\n",
        "**Exemplo:**\n",
        "\n",
        "Se o CPF for 286.255.878-87 o programa deve fazer primeiro:\n",
        "\n",
        "x = (2*10 + 8*9 + 6*8 + 2*7 + 5*6 + 5*5 + 8*4 + 7*3 + 8*2)\n",
        "\n",
        "Em seguida, o programa deve testar se x*10%11 == 8 (o décimo número do CPF). Se sim, o programa deve calcular:\n",
        "\n",
        "x = (2*11 + 8*10 + 6*9 + 2*8 + 5*7 + 5*6 + 8*5 + 7*4 + 8*3 + 8*2)\n",
        "\n",
        "e verificar se x*10%11 == 7 (o décimo primeiro número do CPF)."
      ],
      "metadata": {
        "id": "pzKFYF49WHzQ"
      }
    },
    {
      "cell_type": "code",
      "source": [
        "cpf = input(\"Digite o numero do seu CPF, apenas os números: \")\n",
        "\n",
        "lista =[]\n",
        "\n",
        "for i in cpf:\n",
        " lista.append(int(i)) # Adicionando, em uma lista vazia,  cada número do CPF em uma posição separada\n",
        "\n",
        "print(lista) #Imprimindo a lista "
      ],
      "metadata": {
        "colab": {
          "base_uri": "https://localhost:8080/"
        },
        "id": "kWmLyp4JWM_2",
        "outputId": "1fac5738-1d34-42b1-9ada-105f7edd9c64"
      },
      "execution_count": 64,
      "outputs": [
        {
          "output_type": "stream",
          "name": "stdout",
          "text": [
            "Digite o numero do seu CPF, apenas os números: 03900184577\n",
            "[0, 3, 9, 0, 0, 1, 8, 4, 5, 7, 7]\n"
          ]
        }
      ]
    },
    {
      "cell_type": "code",
      "source": [
        "decimo = lista[-2] #Armazenando em uma variável o penúltimo dígito do CPF\n",
        "print(decimo)\n",
        "decimo_primeiro = lista[-1] #Armazenando em uma variável o núltimo dígito do CPF\n",
        "print(decimo_primeiro)"
      ],
      "metadata": {
        "colab": {
          "base_uri": "https://localhost:8080/"
        },
        "id": "fix6kvt8WNZU",
        "outputId": "949ae382-d390-4eea-c1f2-25e73361ad63"
      },
      "execution_count": 66,
      "outputs": [
        {
          "output_type": "stream",
          "name": "stdout",
          "text": [
            "7\n",
            "7\n"
          ]
        }
      ]
    },
    {
      "cell_type": "code",
      "source": [
        "del(lista[-2:]) #Deletando, da lista, os dois dígitos finais do CPF"
      ],
      "metadata": {
        "id": "fL-rLISnyx-T"
      },
      "execution_count": 67,
      "outputs": []
    },
    {
      "cell_type": "code",
      "source": [
        "soma = 0\n",
        "multiplicador =10\n",
        "contador=0\n",
        "for i in lista: #utilizando for para percorrer cada item da lista, desde a posição inicial, a fim de verificar a primeira condição imposta; \n",
        "    numero = i*(multiplicador)\n",
        "    print(numero)\n",
        "    soma += numero\n",
        "    multiplicador -= 1\n",
        "\n",
        "resultado = soma*10\n",
        "print(f\" A soma é {soma}\")\n",
        "\n",
        "print(f\" A multiplicação por 10  é {resultado}\")"
      ],
      "metadata": {
        "colab": {
          "base_uri": "https://localhost:8080/"
        },
        "id": "iUdpE9RAw-UG",
        "outputId": "39ef3468-30df-4b68-ce64-b59e2d69c18a"
      },
      "execution_count": 87,
      "outputs": [
        {
          "output_type": "stream",
          "name": "stdout",
          "text": [
            "0\n",
            "27\n",
            "72\n",
            "0\n",
            "0\n",
            "5\n",
            "32\n",
            "12\n",
            "10\n",
            " A soma é 158\n",
            " A multiplicação por 10  é 1580\n"
          ]
        }
      ]
    },
    {
      "cell_type": "code",
      "source": [
        "\n",
        "if resultado%11 == decimo: #Primeiro if para verificação da primeira condição imposta;\n",
        "  print('CPF VÁLIDO - PROSSEGUIMOS PARA O SEGUNDO TESTE')\n",
        "  soma2 = 0\n",
        "  multiplicador2 =11\n",
        "  contador2=0\n",
        "  for i in lista: #utilizando for para percorrer cada item da lista, desde a posição inicial, a fim de verificar a segunda condição imposta;\n",
        "    numero2 = i*(multiplicador2)\n",
        "    print(numero2)\n",
        "    soma2 += numero2\n",
        "    multiplicador2 -= 1\n",
        "\n",
        "\n",
        "  soma2 = soma2 + (decimo*2)\n",
        "  resultado2 = soma2*10\n",
        "\n",
        "if resultado2 % 11 == decimo_primeiro: #Segundo if para verificação da primeira condição imposta;\n",
        "    print(\"CPF VÁLIDO\")\n",
        "else:\n",
        "     print(\"CPF INVÁLIDO\")\n",
        "\n",
        "  "
      ],
      "metadata": {
        "colab": {
          "base_uri": "https://localhost:8080/"
        },
        "id": "SUQcXArgyGp_",
        "outputId": "25374400-2e44-4177-f5af-e0d01a461dde"
      },
      "execution_count": 88,
      "outputs": [
        {
          "output_type": "stream",
          "name": "stdout",
          "text": [
            "CPF VÁLIDO - PROSSEGUIMOS PARA O SEGUNDO TESTE\n",
            "0\n",
            "30\n",
            "81\n",
            "0\n",
            "0\n",
            "6\n",
            "40\n",
            "16\n",
            "15\n",
            "CPF VÁLIDO\n"
          ]
        }
      ]
    }
  ]
}