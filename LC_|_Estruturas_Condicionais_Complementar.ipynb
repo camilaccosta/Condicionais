{
  "nbformat": 4,
  "nbformat_minor": 0,
  "metadata": {
    "colab": {
      "name": "LC | Estruturas Condicionais - Complementar.ipynb",
      "provenance": [],
      "collapsed_sections": [],
      "authorship_tag": "ABX9TyMYiTRrI7BiPxL5rP8+E427",
      "include_colab_link": true
    },
    "kernelspec": {
      "name": "python3",
      "display_name": "Python 3"
    },
    "language_info": {
      "name": "python"
    }
  },
  "cells": [
    {
      "cell_type": "markdown",
      "metadata": {
        "id": "view-in-github",
        "colab_type": "text"
      },
      "source": [
        "<a href=\"https://colab.research.google.com/github/camilaccosta/Condicionais/blob/Exerc%C3%ADcios/LC_%7C_Estruturas_Condicionais_Complementar.ipynb\" target=\"_parent\"><img src=\"https://colab.research.google.com/assets/colab-badge.svg\" alt=\"Open In Colab\"/></a>"
      ]
    },
    {
      "cell_type": "markdown",
      "metadata": {
        "id": "40HZ6liweROq"
      },
      "source": [
        "\n",
        "**Questão 01:** Escreva um programa que peça a nota de 3 provas de um aluno e verifique se ele passou ou não de ano.\n",
        "\n",
        "Obs.: O aluno irá passar de ano se sua média for maior que 6.\n",
        "\n"
      ]
    },
    {
      "cell_type": "code",
      "metadata": {
        "id": "HTAit5RgesIf"
      },
      "source": [
        "def mediaProvas(nota1,nota2,nota3):\n",
        "\n",
        "  nota1= float(input(\"Digite a nota da primeira prova : \")) \n",
        "  nota2= float(input(\"Digite a nota da segunda prova : \"))\n",
        "  nota3= float(input(\"Digite a nota da terceira prova : \"))\n",
        "  media=(nota1+nota2+nota3)/3\n",
        "\n",
        "  if media>= 6:\n",
        "    print(f\"Sua média é: {media:.1f}  .Você está APROVADO! \")\n",
        "  else:\n",
        "    print(f\"Sua média é: {media:.1f}   .Você está REPROVADO! \")\n",
        "\n",
        "    return mediaProvas"
      ],
      "execution_count": null,
      "outputs": []
    },
    {
      "cell_type": "markdown",
      "metadata": {
        "id": "5q7sSnbwhgq9"
      },
      "source": [
        "**Questão 02:**\n",
        "Desafio 1 - Faça um programa que leia 3 números e informe o maior deles."
      ]
    },
    {
      "cell_type": "code",
      "metadata": {
        "colab": {
          "base_uri": "https://localhost:8080/"
        },
        "id": "60pMe3D3md9S",
        "outputId": "1d4dbed0-8a82-4359-ad94-34d48b61a6d4"
      },
      "source": [
        "numero1 = int(input(\"Digite o primeiro número: \"))\n",
        "numero2 = int(input(\"Digite o segundo número: \"))\n",
        "numero3 = int(input(\"Digite o terceiro número: \"))\n",
        "\n",
        "if numero1 > numero2:\n",
        "\n",
        "    if numero1 > numero3:\n",
        "        print(f\"{numero1} é o maior.\")\n",
        "    else:\n",
        "        print(f\" {numero3} é o maior.\")\n",
        "\n",
        "else:\n",
        "  \n",
        "  if numero2 > numero3: # Se o segundo número for maior que o terceiro:\n",
        "        print(f\"{numero2} é o maior.\")  #Imprima na tela: O segundo número é maior que o terceiro.\n",
        "  else: #Senão:\n",
        "        print(f\"{numero3} é o maior.\") #Imprima na tela: O terceiro número é maior que o segundo.\n",
        "      "
      ],
      "execution_count": 1,
      "outputs": [
        {
          "output_type": "stream",
          "name": "stdout",
          "text": [
            "Digite o primeiro número: 2\n",
            "Digite o segundo número: 1\n",
            "Digite o terceiro número: 9\n",
            " O 9 é o maior.\n"
          ]
        }
      ]
    },
    {
      "cell_type": "markdown",
      "metadata": {
        "id": "HFgtTOnGWuFf"
      },
      "source": [
        "**Desafio 3 **- Um hospital quer fazer o diagnóstico de gripe ou dengue a partir de um questionário de sintomas, tendo as perguntas abaixo, faça um programa que faça o diagnóstico deste hospital:\n",
        "\n",
        "a. Sente dor no corpo?\n",
        "\n",
        "b. Você tem febre?\n",
        "\n",
        "c. Você tem tosse?\n",
        "\n",
        "d. Está com congestão nasal?\n",
        "\n",
        "e. Tem manchas pelo corpo?\n",
        "\n",
        "Para o diagnóstico ele tem a seguinte tabela:\n",
        "\n",
        "A\tB\tC\tD\tE\tResultado\n",
        "Sim\tSim\tNão\tNão\tSim\tDengue\n",
        "Sim\tSim\tSim\tSim\tNão\tGripe\n",
        "Não\tSim\tSim\tSim\tNão\tGripe\n",
        "Sim\tNão\tNão\tNão\tNão\tSem doenças\n",
        "Não\tNão\tNão\tNão\tNão\tSem doenças\n"
      ]
    },
    {
      "cell_type": "code",
      "metadata": {
        "id": "SPdxO12idmdw",
        "colab": {
          "base_uri": "https://localhost:8080/"
        },
        "outputId": "84e4071b-bc2c-49ec-d51a-f81b0d3880fb"
      },
      "source": [
        "a= int(input(\"Você tem dor no corpo ? Digite 1 para SIM ou 2 para NÃO. \"))\n",
        "if a != 1 and a!= 2:\n",
        "  print(\"Erro. Digite 1 para SIM ou 2 para NÃO !\")\n",
        "  a= int(input(\"Você tem dor no corpo ? Digite 1 para SIM ou 2 para NÃO. \"))  \n",
        "\n",
        "b= int(input(\"\\n Você tem febre ? Digite 1 para SIM ou 2 para NÃO. \"))\n",
        "if b != 1 and b!= 2:\n",
        "    print(\"Erro. Digite 1 para SIM ou 2 para NÃO !\")\n",
        "    b= int(input(\"\\n Você tem febre ? Digite 1 para SIM ou 2 para NÃO. \"))\n",
        "\n",
        "c = int(input(\"\\n Você tem tosse ? Digite 1 para SIM ou 2 para NÃO. \"))   \n",
        "if c != 1 and c != 2:\n",
        "    print(\"Erro. Digite 1 para SIM ou 2 para NÃO !\")\n",
        "    c = int(input(\"\\n Você tem tosse ? Digite 1 para SIM ou 2 para NÃO. \"))\n",
        "\n",
        "d = int(input(\"\\n Você está com congestão nasal ? Digite 1 para SIM ou 2 para NÃO. \"))\n",
        "if d != 1 and d != 2:\n",
        "    print(\"Erro. Digite 1 para SIM ou 2 para NÃO !\")\n",
        "    d = int(input(\"\\n Você está com congestão nasal ? Digite 1 para SIM ou 2 para NÃO. \"))\n",
        "\n",
        "e = int(input(\"\\n Você tem manchas no corpo ? Digite 1 para SIM ou 2 para NÃO. \"))\n",
        "if e != 1 and e != 2:\n",
        "    print(\"Erro. Digite 1 para SIM ou 2 para NÃO !\")\n",
        "    e = int(input(\"\\n Você tem manchas no corpo ? Digite 1 para SIM ou 2 para NÃO. \"))\n",
        "\n",
        "if a == 1 and b == 1 and c==2 and d == 2 and e==1:\n",
        "    print(\"\\n Você está com dengue ! \")\n",
        "elif a == 1 and b == 1 and c==1 and d == 1 and e==2:\n",
        "    print(\"\\n Você está com gripe !\")\n",
        "elif a == 2 and b == 1 and c==1 and d == 1 and e==2:\n",
        "    print(\"\\n Você está com gripe! \")\n",
        "else:\n",
        "    print(\"\\n Você não está doente!\")\n"
      ],
      "execution_count": null,
      "outputs": [
        {
          "output_type": "stream",
          "text": [
            "Você tem dor no corpo ? Digite 1 para SIM ou 2 para NÃO. 2\n",
            "\n",
            " Você tem febre ? Digite 1 para SIM ou 2 para NÃO. 1\n",
            "\n",
            " Você tem tosse ? Digite 1 para SIM ou 2 para NÃO. 3\n",
            "Erro. Digite 1 para SIM ou 2 para NÃO !\n",
            "\n",
            " Você tem tosse ? Digite 1 para SIM ou 2 para NÃO. 1\n",
            "\n",
            " Você está com congestão nasal ? Digite 1 para SIM ou 2 para NÃO. 1\n",
            "\n",
            " Você tem manchas no corpo ? Digite 1 para SIM ou 2 para NÃO. 2\n",
            "\n",
            " Você esta com gripe! \n"
          ],
          "name": "stdout"
        }
      ]
    }
  ]
}